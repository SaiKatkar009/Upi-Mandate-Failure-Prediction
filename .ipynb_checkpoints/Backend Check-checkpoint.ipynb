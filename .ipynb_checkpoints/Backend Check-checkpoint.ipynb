{
 "cells": [
  {
   "cell_type": "code",
   "execution_count": 7,
   "id": "baf095cd-2d8e-4edd-b1ed-0c006fe30a6d",
   "metadata": {},
   "outputs": [
    {
     "name": "stdout",
     "output_type": "stream",
     "text": [
      "{'prediction': 'Failure'}\n"
     ]
    }
   ],
   "source": [
    "import requests\n",
    "\n",
    "# API Endpoint\n",
    "url = 'http://127.0.0.1:5000/predict'\n",
    "\n",
    "sample_data = {\n",
    "    'mandate_amount': 9,\n",
    "    'account_balance': 80.00,\n",
    "    'bank_api_latency': 700,\n",
    "    'bank_success_rate': 0.85,\n",
    "    'retry_attempts': 1,\n",
    "    'mandate_age_days': 100,\n",
    "    'previous_failures': 123\n",
    "}\n",
    "\n",
    "# Send POST request\n",
    "response = requests.post(url, json=sample_data)\n",
    "\n",
    "# Show the result\n",
    "print(response.json())\n"
   ]
  },
  {
   "cell_type": "code",
   "execution_count": null,
   "id": "550ef931-c6a5-4182-a0c5-16948e4d88b1",
   "metadata": {},
   "outputs": [],
   "source": []
  }
 ],
 "metadata": {
  "kernelspec": {
   "display_name": "Python 3 (ipykernel)",
   "language": "python",
   "name": "python3"
  },
  "language_info": {
   "codemirror_mode": {
    "name": "ipython",
    "version": 3
   },
   "file_extension": ".py",
   "mimetype": "text/x-python",
   "name": "python",
   "nbconvert_exporter": "python",
   "pygments_lexer": "ipython3",
   "version": "3.12.7"
  }
 },
 "nbformat": 4,
 "nbformat_minor": 5
}
